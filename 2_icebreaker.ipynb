{
 "cells": [
  {
   "cell_type": "code",
   "execution_count": null,
   "metadata": {},
   "outputs": [],
   "source": [
    "summary_tempalate = \"\"\"\n",
    "given the LinkedIn information {information} about a person, I want you to create:\n",
    "1. a short summary\n",
    "2. two interesting facts about them\n",
    "\"\"\""
   ]
  }
 ],
 "metadata": {
  "language_info": {
   "name": "python"
  }
 },
 "nbformat": 4,
 "nbformat_minor": 2
}
