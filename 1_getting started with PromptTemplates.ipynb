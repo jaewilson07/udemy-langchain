{
 "cells": [
  {
   "cell_type": "code",
   "execution_count": 8,
   "metadata": {},
   "outputs": [
    {
     "name": "stdout",
     "output_type": "stream",
     "text": [
      "Collecting jupyterlab-quarto\n",
      "  Downloading jupyterlab_quarto-0.2.8-py3-none-any.whl.metadata (6.8 kB)\n",
      "Downloading jupyterlab_quarto-0.2.8-py3-none-any.whl (909 kB)\n",
      "   ---------------------------------------- 0.0/909.8 kB ? eta -:--:--\n",
      "   - -------------------------------------- 30.7/909.8 kB 1.4 MB/s eta 0:00:01\n",
      "   ------------------------- -------------- 573.4/909.8 kB 7.2 MB/s eta 0:00:01\n",
      "   ---------------------------------------- 909.8/909.8 kB 9.7 MB/s eta 0:00:00\n",
      "Installing collected packages: jupyterlab-quarto\n",
      "Successfully installed jupyterlab-quarto-0.2.8\n",
      "Note: you may need to restart the kernel to use updated packages.\n"
     ]
    }
   ],
   "source": [
    "# %pip install nbdev\n",
    "# %pip install jupyterlab\n",
    "%pip install jupyterlab-quarto"
   ]
  },
  {
   "cell_type": "code",
   "execution_count": 5,
   "metadata": {},
   "outputs": [],
   "source": [
    "# %pip install langchain"
   ]
  },
  {
   "cell_type": "code",
   "execution_count": 6,
   "metadata": {},
   "outputs": [],
   "source": [
    "import os\n",
    "\n",
    "from langchain import PromptTemplate\n",
    "from langchain.chat_models import ChatOpenAI\n",
    "from langchain.chains import LLMChain\n",
    "\n",
    "\n",
    "summary_template = \"\"\"\n",
    "given the {information} about a person, I want you to create:\n",
    "1. a short summary\n",
    "2. two interesting facts about them\"\"\"\n",
    "\n",
    "summary_prompt_template = PromptTemplate(\n",
    "    input_variables=[\"information\"], template=summary_template\n",
    ")"
   ]
  },
  {
   "cell_type": "code",
   "execution_count": 9,
   "metadata": {},
   "outputs": [],
   "source": [
    "llm = ChatOpenAI(\n",
    "    temperature = 0,\n",
    "    base_url = 'http://localhost:1234/v1'\n",
    ")\n",
    "\n",
    "chain = LLMChain(\n",
    "    llm = llm,\n",
    "    prompt=summary_prompt_template\n",
    ")"
   ]
  },
  {
   "cell_type": "code",
   "execution_count": 22,
   "metadata": {},
   "outputs": [],
   "source": [
    "import wikipedia\n",
    "\n",
    "result = wikipedia.search('Albert Einstein')\n",
    "\n",
    "info = wikipedia.page(result[0]).content.split(\"==\\n\")[0]"
   ]
  },
  {
   "cell_type": "code",
   "execution_count": 27,
   "metadata": {},
   "outputs": [],
   "source": [
    "res = chain.run(information= info )"
   ]
  },
  {
   "cell_type": "code",
   "execution_count": 30,
   "metadata": {},
   "outputs": [
    {
     "name": "stdout",
     "output_type": "stream",
     "text": [
      "('\\n'\n",
      " '1. Albert Einstein was a German-born theoretical physicist renowned for '\n",
      " 'developing the theory of relativity and making significant contributions to '\n",
      " 'quantum mechanics. In his \"annus mirabilis\" year of 1905, he published '\n",
      " 'groundbreaking papers on the photoelectric effect, Brownian motion, special '\n",
      " 'theory of relativity, and mass-energy equivalence. He later proposed a '\n",
      " 'general theory of relativity in 1915, which extended his system of mechanics '\n",
      " \"to include gravitation. Einstein's intellectual achievements earned him the \"\n",
      " 'Nobel Prize in Physics in 1921 for discovering the law of the photoelectric '\n",
      " \"effect and solidified his status as one of history's greatest scientists.\\n\"\n",
      " '\\n'\n",
      " '2. Fact 1: In defiance of classical mechanics, Einstein proposed that light '\n",
      " 'behaves both as a particle (photon) and a wave, which was later confirmed '\n",
      " 'through experiments. This dual nature of light is now fundamental to quantum '\n",
      " 'physics.\\n'\n",
      " '   Fact 2: During World War II, Einstein wrote a letter to President '\n",
      " 'Franklin D. Roosevelt urging the US to begin research on nuclear weapons in '\n",
      " \"response to Nazi Germany's potential development of atomic bombs. This \"\n",
      " 'letter is considered a pivotal moment in the history of nuclear technology '\n",
      " 'and the Cold War.')\n"
     ]
    }
   ],
   "source": [
    "pprint(res)"
   ]
  }
 ],
 "metadata": {
  "kernelspec": {
   "display_name": "Python 3",
   "language": "python",
   "name": "python3"
  },
  "language_info": {
   "codemirror_mode": {
    "name": "ipython",
    "version": 3
   },
   "file_extension": ".py",
   "mimetype": "text/x-python",
   "name": "python",
   "nbconvert_exporter": "python",
   "pygments_lexer": "ipython3",
   "version": "3.11.6"
  }
 },
 "nbformat": 4,
 "nbformat_minor": 2
}
